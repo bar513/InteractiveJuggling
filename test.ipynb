{
 "cells": [
  {
   "cell_type": "code",
   "execution_count": null,
   "metadata": {},
   "outputs": [],
   "source": [
    "import cv2 as cv\n",
    "import numpy as np\n",
    "import time\n",
    "import matplotlib.pyplot as plt\n",
    "import warnings\n",
    "warnings.warn(\"deprecated\", DeprecationWarning)"
   ]
  },
  {
   "cell_type": "code",
   "execution_count": null,
   "metadata": {},
   "outputs": [],
   "source": [
    "def video_to_array(path):\n",
    "    cap = cv.VideoCapture(path)\n",
    "    frameCount = int(cap.get(cv.CAP_PROP_FRAME_COUNT))\n",
    "    buf = np.empty((frameCount, 400, 640, 3), np.dtype('uint8'))\n",
    "\n",
    "    fc = 0\n",
    "    ret = True\n",
    "\n",
    "    while (fc < frameCount  and ret):\n",
    "        ret, frame = cap.read()\n",
    "        buf[fc] = cv.resize(frame, (640, 400))\n",
    "        fc += 1\n",
    "\n",
    "    cap.release()\n",
    "    return buf\n",
    "\n",
    "\n",
    "        \n",
    "    "
   ]
  },
  {
   "cell_type": "code",
   "execution_count": null,
   "metadata": {},
   "outputs": [],
   "source": [
    "images = video_to_array('Untitled.mp4')\n"
   ]
  },
  {
   "cell_type": "code",
   "execution_count": 55,
   "metadata": {},
   "outputs": [
    {
     "ename": "KeyboardInterrupt",
     "evalue": "",
     "output_type": "error",
     "traceback": [
      "\u001b[0;31m---------------------------------------------------------------------------\u001b[0m",
      "\u001b[0;31mKeyboardInterrupt\u001b[0m                         Traceback (most recent call last)",
      "Cell \u001b[0;32mIn[55], line 45\u001b[0m\n\u001b[1;32m     43\u001b[0m     cv\u001b[39m.\u001b[39mimshow(\u001b[39m'\u001b[39m\u001b[39mimg\u001b[39m\u001b[39m'\u001b[39m,img)\n\u001b[1;32m     44\u001b[0m     cv\u001b[39m.\u001b[39mimshow(\u001b[39m'\u001b[39m\u001b[39mback\u001b[39m\u001b[39m'\u001b[39m,fgMask)\n\u001b[0;32m---> 45\u001b[0m     cv\u001b[39m.\u001b[39;49mwaitKey(\u001b[39m0\u001b[39;49m)\n\u001b[1;32m     46\u001b[0m cv\u001b[39m.\u001b[39mdestroyAllWindows()\n",
      "\u001b[0;31mKeyboardInterrupt\u001b[0m: "
     ]
    }
   ],
   "source": [
    "backSub = cv.createBackgroundSubtractorMOG2()\n",
    "for img in images:\n",
    "    hsv = cv.cvtColor(img,cv.COLOR_RGB2LAB)\n",
    "    fgMask = backSub.apply(hsv[:,:,1])\n",
    "    _,threshold = cv.threshold(fgMask, 180, 255, cv.THRESH_BINARY)\n",
    "    contours, _ = cv.findContours(threshold, cv.RETR_TREE, cv.CHAIN_APPROX_SIMPLE)\n",
    "    i = 0\n",
    "  \n",
    "    # list for storing names of shapes\n",
    "    for contour in contours:\n",
    "    \n",
    "        # here we are ignoring first counter because \n",
    "        # findcontour function detects whole image as shape\n",
    "        if i == 0:\n",
    "            i = 1\n",
    "            continue\n",
    "    \n",
    "        # cv2.approxPloyDP() function to approximate the shape\n",
    "        approx = cv.approxPolyDP(contour, 0.01 * cv.arcLength(contour, True), True)\n",
    "        cv.drawContours(img, [contour], 0, (0, 0, 255), 5)\n",
    "            # finding center point of shape\n",
    "        M = cv.moments(contour)\n",
    "        if M['m00'] != 0.0:\n",
    "            x = int(M['m10']/M['m00'])\n",
    "            y = int(M['m01']/M['m00'])\n",
    "    \n",
    "            # putting shape name at center of each shape\n",
    "            if len(approx) == 3:\n",
    "                pass\n",
    "        \n",
    "            elif len(approx) == 4:\n",
    "                pass\n",
    "        \n",
    "            elif len(approx) == 5:\n",
    "                pass\n",
    "        \n",
    "            elif len(approx) == 6:\n",
    "                pass\n",
    "        \n",
    "            else:\n",
    "                cv.putText(img, 'circle', (x, y),\n",
    "                        cv.FONT_HERSHEY_SIMPLEX, 0.6, (255, 255, 255), 2)\n",
    "    cv.imshow('img',img)\n",
    "    cv.imshow('back',fgMask)\n",
    "    cv.waitKey(0)\n",
    "cv.destroyAllWindows()"
   ]
  },
  {
   "cell_type": "code",
   "execution_count": 52,
   "metadata": {},
   "outputs": [
    {
     "data": {
      "text/plain": [
       "(400, 640)"
      ]
     },
     "execution_count": 52,
     "metadata": {},
     "output_type": "execute_result"
    }
   ],
   "source": [
    "threshold.shape\n",
    "\n",
    "  \n"
   ]
  },
  {
   "cell_type": "code",
   "execution_count": null,
   "metadata": {},
   "outputs": [],
   "source": []
  }
 ],
 "metadata": {
  "kernelspec": {
   "display_name": "Python 3.9.15 ('Medflow')",
   "language": "python",
   "name": "python3"
  },
  "language_info": {
   "codemirror_mode": {
    "name": "ipython",
    "version": 3
   },
   "file_extension": ".py",
   "mimetype": "text/x-python",
   "name": "python",
   "nbconvert_exporter": "python",
   "pygments_lexer": "ipython3",
   "version": "3.9.15"
  },
  "orig_nbformat": 4,
  "vscode": {
   "interpreter": {
    "hash": "6001b68f7e7837a2ba7d73202cb49a3819dc12c91a856dc37244b375f5c73f29"
   }
  }
 },
 "nbformat": 4,
 "nbformat_minor": 2
}
