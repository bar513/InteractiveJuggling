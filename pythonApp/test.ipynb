{
 "cells": [
  {
   "cell_type": "code",
   "execution_count": 1,
   "metadata": {},
   "outputs": [
    {
     "name": "stderr",
     "output_type": "stream",
     "text": [
      "/var/folders/yw/ky3wyxtn5wgbtrvvv7s7trgc0000gn/T/ipykernel_87729/2667076721.py:6: DeprecationWarning: deprecated\n",
      "  warnings.warn(\"deprecated\", DeprecationWarning)\n"
     ]
    }
   ],
   "source": [
    "import cv2 as cv\n",
    "import numpy as np\n",
    "import time\n",
    "import matplotlib.pyplot as plt\n",
    "import warnings\n",
    "warnings.warn(\"deprecated\", DeprecationWarning)\n",
    "from scipy.spatial import distance as dist\n",
    "from collections import OrderedDict\n",
    "from OurClasses import *\n",
    "from JServer import *\n",
    "import math"
   ]
  },
  {
   "cell_type": "code",
   "execution_count": 2,
   "metadata": {},
   "outputs": [],
   "source": [
    "def video_to_array(path):\n",
    "    cap = cv.VideoCapture(path)\n",
    "    frameCount = int(cap.get(cv.CAP_PROP_FRAME_COUNT))\n",
    "    buf = np.empty((frameCount, 400, 640, 3), np.dtype('uint8'))\n",
    "\n",
    "    fc = 0\n",
    "    ret = True\n",
    "\n",
    "    while (fc < frameCount  and ret):\n",
    "        ret, frame = cap.read()\n",
    "        buf[fc] = cv.resize(frame, (640, 400))\n",
    "        fc += 1\n",
    "\n",
    "    cap.release()\n",
    "    return buf\n",
    "\n",
    "\n",
    "        \n",
    "    "
   ]
  },
  {
   "cell_type": "code",
   "execution_count": 2,
   "metadata": {},
   "outputs": [],
   "source": []
  },
  {
   "cell_type": "code",
   "execution_count": 3,
   "metadata": {},
   "outputs": [],
   "source": [
    "def filter_with_stats(img,area_th=300):\n",
    "    output = cv.connectedComponentsWithStats(img, 8, cv.CV_32S)\n",
    "    (numLabels, labels, stats, centroids) = output\n",
    "    for i in range(0, numLabels):\n",
    "        x = stats[i, cv.CC_STAT_LEFT]\n",
    "        y = stats[i, cv.CC_STAT_TOP]\n",
    "        w = stats[i, cv.CC_STAT_WIDTH]\n",
    "        h = stats[i, cv.CC_STAT_HEIGHT]\n",
    "        area= stats[i, cv.CC_STAT_AREA]\n",
    "        if area < area_th:\n",
    "            labels[labels == i] = 0\n",
    "    labels[labels != 0] = 255\n",
    "    return labels.astype(np.uint8) \n",
    "\n",
    "def ball_filter(img,back_object):\n",
    "    lab = cv.cvtColor(img,cv.COLOR_RGB2LAB)\n",
    "    fgMask = back_object.apply(lab[:,:,1])\n",
    "    th, b_th = cv.threshold(lab[:,:,2], 100, 255, cv.THRESH_BINARY_INV)\n",
    "    th,a_th = cv.threshold(fgMask, 180, 255, cv.THRESH_BINARY)\n",
    "    a_filter = filter_with_stats(a_th,200)\n",
    "    b_filter = filter_with_stats(b_th,200)\n",
    "    th_img = cv.bitwise_and(a_filter,b_filter)\n",
    "    return th_img\n",
    "\n",
    "def ball_detection(img,back_object):\n",
    "    balls_lst = []\n",
    "    th_img = ball_filter(img,back_object)\n",
    "    contours, _ = cv.findContours(th_img.astype(np.uint8), cv.RETR_TREE, cv.CHAIN_APPROX_SIMPLE)\n",
    "    # list for storing names of shapes\n",
    "    for contour in contours:\n",
    "        # approx = cv.approxPolyDP(contour, 0.01 * cv.arcLength(contour, True), True)\n",
    "        #     # finding center point of shapes\n",
    "        M = cv.moments(contour)\n",
    "        if M['m00'] != 0.0:\n",
    "            x = int(M['m10']/M['m00'])\n",
    "            y = int(M['m01']/M['m00'])\n",
    "    \n",
    "        #     # putting shape name at center of each shape\n",
    "            # if len(approx)>12:\n",
    "            #     cv.putText(img, 'circle', (x, y),cv.FONT_HERSHEY_SIMPLEX, 0.6, (255, 255, 255), 2)\n",
    "            ball = Ball(x,y,cv.arcLength(contour,True)) \n",
    "            balls_lst.append(ball)\n",
    "    return th_img,balls_lst,contours"
   ]
  },
  {
   "cell_type": "code",
   "execution_count": 3,
   "metadata": {},
   "outputs": [],
   "source": [
    "\n",
    "\n"
   ]
  },
  {
   "cell_type": "code",
   "execution_count": 4,
   "metadata": {},
   "outputs": [],
   "source": [
    "# def get_closest_point(ball_old,ball_new):\n",
    "#     old = np.array([(i.x,i.y) for i in ball_old])\n",
    "#     new = np.array([(j.x,j.y) for j in ball_new])\n",
    "#     D = dist.cdist(old,new)\n",
    "#     if len(old) > len(new):\n",
    "#         D=D.T\n",
    "#     return[(np.min(D[row]),np.argmin(D[row])) for row in range(D.shape[0])]\n",
    "def get_closest_point(ball_old,ball_new):\n",
    "    old = np.array([(i.x,i.y) for i in ball_old])\n",
    "    new = np.array([(j.x,j.y) for j in ball_new])\n",
    "    D = dist.cdist(old,new)\n",
    "    arr = np.column_stack((np.arange(len(old)),np.zeros((len(old),2))))\n",
    "    if D.shape[0]>D.shape[1]:\n",
    "        for dis in range(D.shape[1]):\n",
    "            d = np.unravel_index(D.argmin(), D.shape)\n",
    "            arr[d[0],1] = d[1]\n",
    "            arr[d[0],2] = D[d]\n",
    "            D[d[0]] = 999\n",
    "            D[:,d[1]] = 999\n",
    "    else:\n",
    "        for dis in range(D.shape[0]):\n",
    "            d = np.unravel_index(D.argmin(), D.shape)\n",
    "            arr[d[0],1] = d[1]\n",
    "            arr[d[0],2] = D[d]\n",
    "            D[d[0]] = 999\n",
    "            D[:,d[1]] = 999\n",
    "    arr[(arr[:,2]==0),2]=-1\n",
    "    return arr"
   ]
  },
  {
   "cell_type": "code",
   "execution_count": 5,
   "outputs": [],
   "source": [
    "def draw_label(img, text, pos, bg_color):\n",
    "   font_face = cv.FONT_HERSHEY_SIMPLEX\n",
    "   scale = 2\n",
    "   color = (0, 0, 0)\n",
    "   thickness = cv.FILLED\n",
    "   margin = 2\n",
    "   txt_size = cv.getTextSize(text, font_face, scale, thickness)\n",
    "\n",
    "   end_x = pos[0] + txt_size[0][0] + margin\n",
    "   end_y = pos[1] - txt_size[0][1] - margin\n",
    "\n",
    "   cv.rectangle(img, pos, (end_x, end_y), bg_color, thickness)\n",
    "   cv.putText(img, text, pos, font_face, scale, color, 1, cv.LINE_AA)"
   ],
   "metadata": {
    "collapsed": false
   }
  },
  {
   "cell_type": "code",
   "execution_count": 6,
   "metadata": {},
   "outputs": [],
   "source": [
    "# images = video_to_array('regular2.mp4')\n",
    "images = video_to_array('library1.mp4')\n"
   ]
  },
  {
   "cell_type": "code",
   "execution_count": 6,
   "outputs": [],
   "source": [],
   "metadata": {
    "collapsed": false
   }
  },
  {
   "cell_type": "code",
   "execution_count": 18,
   "metadata": {},
   "outputs": [
    {
     "name": "stdout",
     "output_type": "stream",
     "text": [
      "Socket successfully created\n"
     ]
    },
    {
     "ename": "OSError",
     "evalue": "[Errno 48] Address already in use",
     "output_type": "error",
     "traceback": [
      "\u001B[0;31m---------------------------------------------------------------------------\u001B[0m",
      "\u001B[0;31mOSError\u001B[0m                                   Traceback (most recent call last)",
      "Cell \u001B[0;32mIn[18], line 12\u001B[0m\n\u001B[1;32m      9\u001B[0m frameT_width \u001B[38;5;241m=\u001B[39m \u001B[38;5;28mint\u001B[39m(videoTrail\u001B[38;5;241m.\u001B[39mget(\u001B[38;5;241m3\u001B[39m))\n\u001B[1;32m     10\u001B[0m frameT_height \u001B[38;5;241m=\u001B[39m \u001B[38;5;28mint\u001B[39m(videoTrail\u001B[38;5;241m.\u001B[39mget(\u001B[38;5;241m4\u001B[39m))\n\u001B[0;32m---> 12\u001B[0m myServer \u001B[38;5;241m=\u001B[39m \u001B[43mJServer\u001B[49m\u001B[43m(\u001B[49m\u001B[43m)\u001B[49m\n\u001B[1;32m     13\u001B[0m \u001B[38;5;28;01mfor\u001B[39;00m i \u001B[38;5;129;01min\u001B[39;00m \u001B[38;5;28mrange\u001B[39m(\u001B[38;5;241m20\u001B[39m):\n\u001B[1;32m     14\u001B[0m         historyReal\u001B[38;5;241m.\u001B[39minsertAllBalls([Ball(\u001B[38;5;241m0\u001B[39m,\u001B[38;5;241m0\u001B[39m,\u001B[38;5;241m0\u001B[39m,Btype\u001B[38;5;241m.\u001B[39mREAL),Ball(\u001B[38;5;241m0\u001B[39m,\u001B[38;5;241m0\u001B[39m,\u001B[38;5;241m0\u001B[39m,Btype\u001B[38;5;241m.\u001B[39mREAL),Ball(\u001B[38;5;241m0\u001B[39m,\u001B[38;5;241m0\u001B[39m,\u001B[38;5;241m0\u001B[39m,Btype\u001B[38;5;241m.\u001B[39mREAL),Ball(\u001B[38;5;241m0\u001B[39m,\u001B[38;5;241m0\u001B[39m,\u001B[38;5;241m0\u001B[39m,Btype\u001B[38;5;241m.\u001B[39mREAL)],Btype\u001B[38;5;241m.\u001B[39mREAL)\n",
      "File \u001B[0;32m~/Desktop/studies/semester7/imageProcessing/finalProject/InteractiveJuggling/JServer.py:11\u001B[0m, in \u001B[0;36mJServer.__init__\u001B[0;34m(self)\u001B[0m\n\u001B[1;32m      9\u001B[0m \u001B[38;5;28mprint\u001B[39m(\u001B[38;5;124m\"\u001B[39m\u001B[38;5;124mSocket successfully created\u001B[39m\u001B[38;5;124m\"\u001B[39m)\n\u001B[1;32m     10\u001B[0m port \u001B[38;5;241m=\u001B[39m \u001B[38;5;241m12345\u001B[39m\n\u001B[0;32m---> 11\u001B[0m \u001B[38;5;28;43mself\u001B[39;49m\u001B[38;5;241;43m.\u001B[39;49m\u001B[43ms\u001B[49m\u001B[38;5;241;43m.\u001B[39;49m\u001B[43mbind\u001B[49m\u001B[43m(\u001B[49m\u001B[43m(\u001B[49m\u001B[38;5;124;43m'\u001B[39;49m\u001B[38;5;124;43m'\u001B[39;49m\u001B[43m,\u001B[49m\u001B[43m \u001B[49m\u001B[43mport\u001B[49m\u001B[43m)\u001B[49m\u001B[43m)\u001B[49m\n\u001B[1;32m     12\u001B[0m \u001B[38;5;28mprint\u001B[39m(\u001B[38;5;124m\"\u001B[39m\u001B[38;5;124msocket binded to \u001B[39m\u001B[38;5;132;01m%s\u001B[39;00m\u001B[38;5;124m\"\u001B[39m \u001B[38;5;241m%\u001B[39m (port))\n\u001B[1;32m     13\u001B[0m \u001B[38;5;28mself\u001B[39m\u001B[38;5;241m.\u001B[39ms\u001B[38;5;241m.\u001B[39mlisten(\u001B[38;5;241m5\u001B[39m)\n",
      "\u001B[0;31mOSError\u001B[0m: [Errno 48] Address already in use"
     ]
    }
   ],
   "source": [
    "\n",
    "colors = [(255,0,0),[0,255,0],(0,0,255),[255,255,255]]\n",
    "backSub = cv.createBackgroundSubtractorMOG2()\n",
    "backSub2 = cv.createBackgroundSubtractorMOG2()#y\n",
    "historyReal=History(999,4)\n",
    "\n",
    "ballsCounter=0\n",
    "maxDistanceToMatch = 180\n",
    "videoTrail = cv.VideoCapture(\"fireball.gif\")\n",
    "frameT_width = int(videoTrail.get(3))\n",
    "frameT_height = int(videoTrail.get(4))\n",
    "\n",
    "myServer = JServer()\n",
    "for i in range(20):\n",
    "        historyReal.insertAllBalls([Ball(0,0,0,Btype.REAL),Ball(0,0,0,Btype.REAL),Ball(0,0,0,Btype.REAL),Ball(0,0,0,Btype.REAL)],Btype.REAL)\n",
    "\n",
    "for count,img in enumerate(images):\n",
    "    copy_img = img.copy()\n",
    "    th_img, balls_list  , contours = ball_detection(img,backSub)\n",
    "    hands_mask  = hands_detection(img, backSub2, detect = False, ball = None) #y\n",
    "\n",
    "    balls_list = [ball for ball in balls_list if ball.area>50]\n",
    "    # print(\"len \" + str(len(balls_list)),end='')\n",
    "    # for b in balls_list:\n",
    "    #     print(\"x \" + str(b.x),end='')\n",
    "    #     print(\"y \" + str(b.y),end='')\n",
    "    #     print(\"area \" + str(b.area))\n",
    "\n",
    "\n",
    "    ballsAlive , aliveIDs,ballsDead,deadIDs, numOfBalls = historyReal.predictNumOfBalls(historySizeNotReal=20,historySizeSpeedKill=20,historySizeSpeedRevive=10,historySizeSizeRevive=10,THavgNotRealKill=0.85,THavgSpeedToKill=10,THavgSpeedToRevive=20,THavgSizeToRevive=70)\n",
    "    #kalman~~~~~~~~~~\n",
    "    for idx,id in enumerate(aliveIDs):\n",
    "        if(ballsAlive[idx].btype==Btype.REAL):\n",
    "            ball = historyReal.get(id).kalmanPredict()\n",
    "            ballsAlive[idx].x = ball.x\n",
    "            ballsAlive[idx].y = ball.y\n",
    "            ballsAlive[idx].btype = Btype.KALMAN_PREDICTION\n",
    "    #kalman end~~~~~~\n",
    "    lst=[]\n",
    "    #~~~~alive balls~~~~~\n",
    "    if len(ballsAlive)>0:\n",
    "        lst = get_closest_point(ballsAlive,balls_list) #lst[i][0]=old balls index,lst[i][1]=new balls index,lst[i][2]=distance\n",
    "        historyReal.insertByLst(lst,aliveIDs,balls_list,img,backSub2,useHand = True,maxDistanceToMatch=maxDistanceToMatch)\n",
    "    #~~~~dead balls~~~~~\n",
    "    if len(balls_list)>len(ballsAlive):\n",
    "        indices = [int(lst[i][1]) for i in range(len(lst))]\n",
    "        balls_list = np.delete(balls_list, indices)\n",
    "        lst_dead = get_closest_point(ballsDead,balls_list)\n",
    "        historyReal.insertByLst(lst_dead,deadIDs,balls_list,img,backSub2,useHand = False)\n",
    "\n",
    "\n",
    "\n",
    "\n",
    "    # print(numOfBalls)\n",
    "    if historyReal.isNewBallAtMax():\n",
    "        ballsCounter+=1\n",
    "\n",
    "\n",
    "    historyReal.drawLastBalls(copy_img)\n",
    "    #trail part\n",
    "    retT, frameT = videoTrail.read()\n",
    "    if not retT:\n",
    "        # print('no video')\n",
    "        videoTrail.set(cv.CAP_PROP_POS_FRAMES, 0)\n",
    "        retT, frameT = videoTrail.read()\n",
    "        # continue\n",
    "\n",
    "\n",
    "    historyReal.drawTrailsLastBalls(copy_img,640,400,frameT,frameT_width,frameT_height)\n",
    "\n",
    "    draw_label(copy_img, str(ballsCounter), (20,60), (255, 0, 0))\n",
    "    # print(numOfBalls)\n",
    "    myServer.sendData(copy_img)\n",
    "    # cv.imshow('first_mask',th_img)\n",
    "    # cv.imshow('hands_mask',hands_mask)\n",
    "    # cv.imshow('real_time',copy_img)\n",
    "    # cv.waitKey(0)\n",
    "cv.destroyAllWindows()\n"
   ]
  },
  {
   "cell_type": "code",
   "execution_count": 14,
   "outputs": [],
   "source": [
    "myServer.closeConnection()"
   ],
   "metadata": {
    "collapsed": false
   }
  },
  {
   "cell_type": "code",
   "execution_count": 12,
   "metadata": {},
   "outputs": [],
   "source": [
    "    # for contour in contours:\n",
    "    #     cv.drawContours(image=copy_img, contours=contours, contourIdx=-1, color=(0, 255, 0), thickness=2, lineType=cv.LINE_AA)"
   ]
  },
  {
   "cell_type": "code",
   "execution_count": 11,
   "outputs": [],
   "source": [],
   "metadata": {
    "collapsed": false
   }
  },
  {
   "cell_type": "code",
   "execution_count": 16,
   "outputs": [
    {
     "name": "stdout",
     "output_type": "stream",
     "text": [
      " * Serving Flask app '__main__'\n",
      " * Debug mode: on\n"
     ]
    },
    {
     "name": "stderr",
     "output_type": "stream",
     "text": [
      "\u001B[31m\u001B[1mWARNING: This is a development server. Do not use it in a production deployment. Use a production WSGI server instead.\u001B[0m\n",
      " * Running on all addresses (0.0.0.0)\n",
      " * Running on http://127.0.0.1:8080\n",
      " * Running on http://172.16.103.230:8080\n",
      "\u001B[33mPress CTRL+C to quit\u001B[0m\n",
      " * Restarting with stat\n",
      "Traceback (most recent call last):\n",
      "  File \"/Users/bar/Desktop/studies/semester7/imageProcessing/finalProject/InteractiveJuggling/venv2/lib/python3.9/site-packages/ipykernel_launcher.py\", line 17, in <module>\n",
      "    app.launch_new_instance()\n",
      "  File \"/Users/bar/Desktop/studies/semester7/imageProcessing/finalProject/InteractiveJuggling/venv2/lib/python3.9/site-packages/traitlets/config/application.py\", line 1042, in launch_instance\n",
      "    app.initialize(argv)\n",
      "  File \"/Users/bar/Desktop/studies/semester7/imageProcessing/finalProject/InteractiveJuggling/venv2/lib/python3.9/site-packages/traitlets/config/application.py\", line 113, in inner\n",
      "    return method(app, *args, **kwargs)\n",
      "  File \"/Users/bar/Desktop/studies/semester7/imageProcessing/finalProject/InteractiveJuggling/venv2/lib/python3.9/site-packages/ipykernel/kernelapp.py\", line 678, in initialize\n",
      "    self.init_sockets()\n",
      "  File \"/Users/bar/Desktop/studies/semester7/imageProcessing/finalProject/InteractiveJuggling/venv2/lib/python3.9/site-packages/ipykernel/kernelapp.py\", line 317, in init_sockets\n",
      "    self.shell_port = self._bind_socket(self.shell_socket, self.shell_port)\n",
      "  File \"/Users/bar/Desktop/studies/semester7/imageProcessing/finalProject/InteractiveJuggling/venv2/lib/python3.9/site-packages/ipykernel/kernelapp.py\", line 252, in _bind_socket\n",
      "    return self._try_bind_socket(s, port)\n",
      "  File \"/Users/bar/Desktop/studies/semester7/imageProcessing/finalProject/InteractiveJuggling/venv2/lib/python3.9/site-packages/ipykernel/kernelapp.py\", line 228, in _try_bind_socket\n",
      "    s.bind(\"tcp://%s:%i\" % (self.ip, port))\n",
      "  File \"/Users/bar/Desktop/studies/semester7/imageProcessing/finalProject/InteractiveJuggling/venv2/lib/python3.9/site-packages/zmq/sugar/socket.py\", line 300, in bind\n",
      "    super().bind(addr)\n",
      "  File \"zmq/backend/cython/socket.pyx\", line 564, in zmq.backend.cython.socket.Socket.bind\n",
      "  File \"zmq/backend/cython/checkrc.pxd\", line 28, in zmq.backend.cython.checkrc._check_rc\n",
      "zmq.error.ZMQError: Address already in use\n"
     ]
    },
    {
     "ename": "SystemExit",
     "evalue": "1",
     "output_type": "error",
     "traceback": [
      "An exception has occurred, use %tb to see the full traceback.\n",
      "\u001B[0;31mSystemExit\u001B[0m\u001B[0;31m:\u001B[0m 1\n"
     ]
    }
   ],
   "source": [],
   "metadata": {
    "collapsed": false
   }
  },
  {
   "cell_type": "code",
   "execution_count": 11,
   "outputs": [
    {
     "name": "stdout",
     "output_type": "stream",
     "text": [
      "cond1 : deat -4 , detections -1 \n",
      "cond1 : deat -4 , detections -1 \n",
      "cond1 : deat -4 , detections -1 \n",
      "cond1 : deat -4 , detections -1 \n",
      "cond1 : deat -4 , detections -1 \n",
      "cond1 : deat -4 , detections -1 \n",
      "cond1 : deat -4 , detections -1 \n",
      "cond1 : alive -1 , detections -1 \n",
      "cond1 : alive -1 , detections -1 \n",
      "cond1 : alive -1 , detections -1 \n",
      "cond1 : alive -1 , detections -1 \n",
      "cond1 : alive -1 , detections -1 \n",
      "cond1 : alive -1 , detections -1 \n",
      "cond1 : alive -1 , detections -1 \n",
      "cond1 : alive -1 , detections -1 \n",
      "cond1 : alive -1 , detections -1 \n",
      "cond1 : alive -1 , detections -3 \n",
      "cond1 : deat -3 , detections -2 \n",
      "cond1 : alive -1 , detections -4 \n",
      "cond1 : deat -3 , detections -3 \n",
      "cond1 : alive -1 , detections -2 \n",
      "cond1 : deat -3 , detections -1 \n",
      "cond1 : alive -1 , detections -1 \n",
      "cond1 : alive -1 , detections -2 \n",
      "cond1 : deat -3 , detections -1 \n",
      "cond1 : alive -1 , detections -1 \n",
      "cond1 : alive -1 , detections -1 \n",
      "cond1 : alive -1 , detections -1 \n",
      "cond1 : alive -1 , detections -1 \n",
      "cond1 : alive -1 , detections -2 \n",
      "cond1 : deat -3 , detections -1 \n",
      "cond1 : alive -1 , detections -3 \n",
      "cond1 : deat -3 , detections -2 \n",
      "cond1 : alive -2 , detections -1 \n",
      "cond1 : alive -2 , detections -1 \n",
      "cond1 : alive -2 , detections -1 \n",
      "cond1 : alive -2 , detections -2 \n",
      "cond1 : alive -2 , detections -1 \n",
      "cond1 : alive -2 , detections -2 \n",
      "cond1 : alive -2 , detections -2 \n",
      "cond1 : alive -2 , detections -1 \n",
      "cond1 : alive -2 , detections -1 \n",
      "cond1 : alive -2 , detections -1 \n",
      "cond1 : alive -2 , detections -2 \n",
      "cond1 : alive -2 , detections -1 \n",
      "cond1 : alive -2 , detections -1 \n",
      "cond1 : alive -2 , detections -1 \n",
      "cond1 : alive -2 , detections -1 \n",
      "cond1 : alive -1 , detections -1 \n",
      "cond1 : alive -1 , detections -1 \n",
      "cond1 : alive -1 , detections -1 \n",
      "cond1 : deat -4 , detections -1 \n",
      "cond1 : alive -1 , detections -1 \n"
     ]
    },
    {
     "ename": "KeyboardInterrupt",
     "evalue": "",
     "output_type": "error",
     "traceback": [
      "\u001B[0;31m---------------------------------------------------------------------------\u001B[0m",
      "\u001B[0;31mKeyboardInterrupt\u001B[0m                         Traceback (most recent call last)",
      "Cell \u001B[0;32mIn[11], line 48\u001B[0m\n\u001B[1;32m     46\u001B[0m \u001B[38;5;28mprint\u001B[39m(\u001B[38;5;124mf\u001B[39m\u001B[38;5;124m'\u001B[39m\u001B[38;5;124mcond1 : alive -\u001B[39m\u001B[38;5;132;01m{\u001B[39;00m\u001B[38;5;28mlen\u001B[39m(ballsAlive)\u001B[38;5;132;01m}\u001B[39;00m\u001B[38;5;124m , detections -\u001B[39m\u001B[38;5;132;01m{\u001B[39;00m\u001B[38;5;28mlen\u001B[39m(balls_list)\u001B[38;5;132;01m}\u001B[39;00m\u001B[38;5;124m \u001B[39m\u001B[38;5;124m'\u001B[39m)\n\u001B[1;32m     47\u001B[0m lst \u001B[38;5;241m=\u001B[39m get_closest_point(ballsAlive,balls_list) \u001B[38;5;66;03m#lst[i][0]=old balls index,lst[i][1]=new balls index,lst[i][2]=distance\u001B[39;00m\n\u001B[0;32m---> 48\u001B[0m \u001B[43mhistoryReal\u001B[49m\u001B[38;5;241;43m.\u001B[39;49m\u001B[43minsertByLst\u001B[49m\u001B[43m(\u001B[49m\u001B[43mlst\u001B[49m\u001B[43m,\u001B[49m\u001B[43maliveIDs\u001B[49m\u001B[43m,\u001B[49m\u001B[43mballs_list\u001B[49m\u001B[43m,\u001B[49m\u001B[43mimg\u001B[49m\u001B[43m,\u001B[49m\u001B[43mbackSub2\u001B[49m\u001B[43m,\u001B[49m\u001B[43museHand\u001B[49m\u001B[43m \u001B[49m\u001B[38;5;241;43m=\u001B[39;49m\u001B[43m \u001B[49m\u001B[38;5;28;43;01mTrue\u001B[39;49;00m\u001B[43m,\u001B[49m\u001B[43mmaxDistanceToMatch\u001B[49m\u001B[38;5;241;43m=\u001B[39;49m\u001B[43mmaxDistanceToMatch\u001B[49m\u001B[43m)\u001B[49m\n\u001B[1;32m     49\u001B[0m indices \u001B[38;5;241m=\u001B[39m [\u001B[38;5;28mint\u001B[39m(lst[i][\u001B[38;5;241m1\u001B[39m]) \u001B[38;5;28;01mfor\u001B[39;00m i \u001B[38;5;129;01min\u001B[39;00m \u001B[38;5;28mrange\u001B[39m(\u001B[38;5;28mlen\u001B[39m(lst))]\n\u001B[1;32m     50\u001B[0m balls_list \u001B[38;5;241m=\u001B[39m np\u001B[38;5;241m.\u001B[39mdelete(balls_list, indices)\n",
      "File \u001B[0;32m~/Desktop/studies/semester7/imageProcessing/finalProject/InteractiveJuggling/OurClasses.py:168\u001B[0m, in \u001B[0;36mHistory.insertByLst\u001B[0;34m(self, lst, IDs, balls_list, img, backSub, useHand, maxDistanceToMatch)\u001B[0m\n\u001B[1;32m    165\u001B[0m     \u001B[38;5;66;03m# cv.circle(copy_img, (balls_list[newBallInd].x,balls_list[newBallInd].y), 4, colors[oldBallInd], 3)\u001B[39;00m\n\u001B[1;32m    166\u001B[0m \u001B[38;5;28;01melse\u001B[39;00m:  \u001B[38;5;66;03m# ball cannot be found, look for hand (or duplicate the last one)\u001B[39;00m\n\u001B[1;32m    167\u001B[0m     \u001B[38;5;28;01mif\u001B[39;00m useHand:\n\u001B[0;32m--> 168\u001B[0m         newBall, handsBallDist \u001B[38;5;241m=\u001B[39m \u001B[43mhands_detection\u001B[49m\u001B[43m(\u001B[49m\u001B[43mimg\u001B[49m\u001B[43m,\u001B[49m\u001B[43m \u001B[49m\u001B[43mbackSub\u001B[49m\u001B[43m,\u001B[49m\u001B[43m \u001B[49m\u001B[38;5;28;43;01mTrue\u001B[39;49;00m\u001B[43m,\u001B[49m\u001B[43m \u001B[49m\u001B[38;5;28;43mself\u001B[39;49m\u001B[38;5;241;43m.\u001B[39;49m\u001B[43mget\u001B[49m\u001B[43m(\u001B[49m\u001B[43moldBallInd\u001B[49m\u001B[43m)\u001B[49m\u001B[43m[\u001B[49m\u001B[38;5;241;43m-\u001B[39;49m\u001B[38;5;241;43m1\u001B[39;49m\u001B[43m]\u001B[49m\u001B[43m)\u001B[49m\n\u001B[1;32m    169\u001B[0m         \u001B[38;5;28mself\u001B[39m\u001B[38;5;241m.\u001B[39minsert(oldBallInd, newBall)\n",
      "File \u001B[0;32m~/Desktop/studies/semester7/imageProcessing/finalProject/InteractiveJuggling/OurClasses.py:241\u001B[0m, in \u001B[0;36mhands_detection\u001B[0;34m(img, back_obj, detect, ball, square_size_to_search, Number_of_pixels)\u001B[0m\n\u001B[1;32m    239\u001B[0m fgmask \u001B[38;5;241m=\u001B[39m cv\u001B[38;5;241m.\u001B[39mmorphologyEx(fgmask, cv\u001B[38;5;241m.\u001B[39mMORPH_OPEN, kernel)\n\u001B[1;32m    240\u001B[0m fgmask[fgmask \u001B[38;5;241m==\u001B[39m \u001B[38;5;241m255\u001B[39m] \u001B[38;5;241m=\u001B[39m \u001B[38;5;241m1\u001B[39m\n\u001B[0;32m--> 241\u001B[0m mask_skin \u001B[38;5;241m=\u001B[39m \u001B[43mcv\u001B[49m\u001B[38;5;241;43m.\u001B[39;49m\u001B[43minRange\u001B[49m\u001B[43m(\u001B[49m\u001B[43mimg_ycrcb\u001B[49m\u001B[43m,\u001B[49m\u001B[43m \u001B[49m\u001B[43mlower_skin\u001B[49m\u001B[43m,\u001B[49m\u001B[43m \u001B[49m\u001B[43mupper_skin\u001B[49m\u001B[43m)\u001B[49m\n\u001B[1;32m    242\u001B[0m naive_mask \u001B[38;5;241m=\u001B[39m fgmask \u001B[38;5;241m*\u001B[39m mask_skin\n\u001B[1;32m    243\u001B[0m naive_mask \u001B[38;5;241m=\u001B[39m cv\u001B[38;5;241m.\u001B[39mdilate(src\u001B[38;5;241m=\u001B[39mnaive_mask, kernel\u001B[38;5;241m=\u001B[39m(\u001B[38;5;241m5\u001B[39m, \u001B[38;5;241m5\u001B[39m), iterations\u001B[38;5;241m=\u001B[39m\u001B[38;5;241m10\u001B[39m)\n",
      "\u001B[0;31mKeyboardInterrupt\u001B[0m: "
     ]
    }
   ],
   "source": [
    "# define a video capture object\n",
    "colors = [(255,0,0),[0,255,0],(0,0,255),[255,255,255]]\n",
    "backSub = cv.createBackgroundSubtractorMOG2()\n",
    "backSub2 = cv.createBackgroundSubtractorMOG2()#y\n",
    "historyReal=History(999,4)\n",
    "\n",
    "ballsCounter=0\n",
    "maxDistanceToMatch = 180\n",
    "\n",
    "vid = cv.VideoCapture(0)\n",
    "\n",
    "for i in range(20):\n",
    "        historyReal.insertAllBalls([Ball(0,0,0,Btype.REAL),Ball(0,0,0,Btype.REAL),Ball(0,0,0,Btype.REAL),Ball(0,0,0,Btype.REAL)],Btype.REAL)\n",
    "\n",
    "while(True):\n",
    "\n",
    "    # Capture the video frame\n",
    "    # by frame\n",
    "    ret, img = vid.read()\n",
    "    copy_img = img.copy()\n",
    "    th_img, balls_list  , contours = ball_detection(img,backSub)\n",
    "    hands_mask  = hands_detection(img, backSub2, detect = False, ball = None) #y\n",
    "\n",
    "    balls_list = [ball for ball in balls_list if ball.area>50]\n",
    "    # print(\"len \" + str(len(balls_list)),end='')\n",
    "    # for b in balls_list:\n",
    "    #     print(\"x \" + str(b.x),end='')\n",
    "    #     print(\"y \" + str(b.y),end='')\n",
    "    #     print(\"area \" + str(b.area))\n",
    "\n",
    "\n",
    "    ballsAlive , aliveIDs,ballsDead,deadIDs, numOfBalls = historyReal.predictNumOfBalls(historySizeNotReal=20,historySizeSpeedKill=20,historySizeSpeedRevive=10,historySizeSizeRevive=10,THavgNotRealKill=0.85,THavgSpeedToKill=10,THavgSpeedToRevive=20,THavgSizeToRevive=70)\n",
    "    #kalman~~~~\n",
    "    for idx,id in enumerate(aliveIDs):\n",
    "        if(ballsAlive[idx].btype==Btype.REAL):\n",
    "            ball = historyReal.get(id).kalmanPredict()\n",
    "            ballsAlive[idx].x = ball.x\n",
    "            ballsAlive[idx].y = ball.y\n",
    "            ballsAlive[idx].btype = Btype.KALMAN_PREDICTION\n",
    "    #kalman end~~~~\n",
    "    lst=[]\n",
    "    #~alive balls~~\n",
    "\n",
    "\n",
    "    if len(ballsAlive)>0 and len(balls_list)>0:\n",
    "        print(f'cond1 : alive -{len(ballsAlive)} , detections -{len(balls_list)} ')\n",
    "        lst = get_closest_point(ballsAlive,balls_list) #lst[i][0]=old balls index,lst[i][1]=new balls index,lst[i][2]=distance\n",
    "        historyReal.insertByLst(lst,aliveIDs,balls_list,img,backSub2,useHand = True,maxDistanceToMatch=maxDistanceToMatch)\n",
    "        indices = [int(lst[i][1]) for i in range(len(lst))]\n",
    "        balls_list = np.delete(balls_list, indices)\n",
    "    #~dead balls~~\n",
    "    if len(balls_list)> 0 and len(ballsDead)>0:\n",
    "        print(f'cond1 : deat -{len(ballsDead)} , detections -{len(balls_list)} ')\n",
    "        lst_dead = get_closest_point(ballsDead,balls_list)\n",
    "        historyReal.insertByLst(lst_dead,deadIDs,balls_list,img,backSub2,useHand = False)\n",
    "\n",
    "\n",
    "\n",
    "\n",
    "    # print(numOfBalls)\n",
    "    if historyReal.isNewBallAtMax():\n",
    "        ballsCounter+=1\n",
    "\n",
    "\n",
    "    historyReal.drawLastBalls(copy_img)\n",
    "    #trail part\n",
    "    # retT, frameT = videoTrail.read()\n",
    "    # if not retT:\n",
    "    #     # print('no video')\n",
    "    #     videoTrail.set(cv.CAP_PROP_POS_FRAMES, 0)\n",
    "    #     retT, frameT = videoTrail.read()\n",
    "    #     # continue\n",
    "\n",
    "\n",
    "    # historyReal.drawTrailsLastBalls(copy_img,640,400,frameT,frameT_width,frameT_height)\n",
    "\n",
    "    draw_label(copy_img, str(ballsCounter), (20,60), (255, 0, 0))\n",
    "    # print(numOfBalls)\n",
    "    # cv.imshow('first_mask',th_img)\n",
    "    # cv.imshow('hands_mask',hands_mask)\n",
    "    # cv.imshow('real_time',copy_img)\n",
    "    # cv.waitKey(0)\n",
    "\n",
    "    # Display the resulting frame\n",
    "    cv.imshow('frame', copy_img)\n",
    "\n",
    "    # the 'q' button is set as the\n",
    "    # quitting button you may use any\n",
    "    # desired button of your choice\n",
    "    if cv.waitKey(1) & 0xFF == ord('q'):\n",
    "        break\n",
    "\n",
    "# After the loop release the cap object\n",
    "vid.release()\n",
    "# Destroy all the windows\n",
    "cv.destroyAllWindows()"
   ],
   "metadata": {
    "collapsed": false
   }
  },
  {
   "cell_type": "code",
   "execution_count": null,
   "outputs": [],
   "source": [],
   "metadata": {
    "collapsed": false
   }
  }
 ],
 "metadata": {
  "kernelspec": {
   "display_name": "Python 3.9.15 ('Medflow')",
   "language": "python",
   "name": "python3"
  },
  "language_info": {
   "codemirror_mode": {
    "name": "ipython",
    "version": 3
   },
   "file_extension": ".py",
   "mimetype": "text/x-python",
   "name": "python",
   "nbconvert_exporter": "python",
   "pygments_lexer": "ipython3",
   "version": "3.9.15"
  },
  "orig_nbformat": 4,
  "vscode": {
   "interpreter": {
    "hash": "6001b68f7e7837a2ba7d73202cb49a3819dc12c91a856dc37244b375f5c73f29"
   }
  }
 },
 "nbformat": 4,
 "nbformat_minor": 2
}
